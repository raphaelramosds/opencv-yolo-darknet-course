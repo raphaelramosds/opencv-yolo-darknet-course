{
 "cells": [
  {
   "cell_type": "markdown",
   "id": "7f1db9cf",
   "metadata": {},
   "source": [
    "# Detectando objetos com YOLO e OpenCV - Explorando mais opções\n",
    "\n",
    "## Etapa 1 - Importando as bibliotecas"
   ]
  },
  {
   "cell_type": "code",
   "execution_count": 1,
   "id": "d0d749d8",
   "metadata": {},
   "outputs": [
    {
     "name": "stdout",
     "output_type": "stream",
     "text": [
      "4.12.0\n"
     ]
    }
   ],
   "source": [
    "import cv2\n",
    "print(cv2.__version__)"
   ]
  },
  {
   "cell_type": "markdown",
   "id": "6a2d49d3",
   "metadata": {},
   "source": [
    "## Etapa 2 - Conectando com o Google Drive"
   ]
  },
  {
   "cell_type": "code",
   "execution_count": 2,
   "id": "83584822",
   "metadata": {},
   "outputs": [],
   "source": [
    "# Desnecessario"
   ]
  },
  {
   "cell_type": "markdown",
   "id": "0f9b30a8",
   "metadata": {},
   "source": [
    "## Etapa 3 - Carregando os arquivos do modelo treinado"
   ]
  },
  {
   "cell_type": "code",
   "execution_count": 3,
   "id": "95780c7c",
   "metadata": {},
   "outputs": [
    {
     "data": {
      "text/plain": [
       "yolov3(labels_path='/home/rapha/Cursos/opencv-yolo-darknet/shared/modelo_YOLOv3/coco.names', weights_path='/home/rapha/Cursos/opencv-yolo-darknet/shared/modelo_YOLOv3/yolov3.weights', config_path='/home/rapha/Cursos/opencv-yolo-darknet/shared/modelo_YOLOv3/yolov3.cfg', labels=['person', 'bicycle', 'car', 'motorbike', 'aeroplane', 'bus', 'train', 'truck', 'boat', 'traffic light', 'fire hydrant', 'stop sign', 'parking meter', 'bench', 'bird', 'cat', 'dog', 'horse', 'sheep', 'cow', 'elephant', 'bear', 'zebra', 'giraffe', 'backpack', 'umbrella', 'handbag', 'tie', 'suitcase', 'frisbee', 'skis', 'snowboard', 'sports ball', 'kite', 'baseball bat', 'baseball glove', 'skateboard', 'surfboard', 'tennis racket', 'bottle', 'wine glass', 'cup', 'fork', 'knife', 'spoon', 'bowl', 'banana', 'apple', 'sandwich', 'orange', 'broccoli', 'carrot', 'hot dog', 'pizza', 'donut', 'cake', 'chair', 'sofa', 'pottedplant', 'bed', 'diningtable', 'toilet', 'tvmonitor', 'laptop', 'mouse', 'remote', 'keyboard', 'cell phone', 'microwave', 'oven', 'toaster', 'sink', 'refrigerator', 'book', 'clock', 'vase', 'scissors', 'teddy bear', 'hair drier', 'toothbrush'])"
      ]
     },
     "execution_count": 3,
     "metadata": {},
     "output_type": "execute_result"
    }
   ],
   "source": [
    "import utils\n",
    "\n",
    "# Obter pesos, configuracao da arquitetura e labels da rede neural do modelo\n",
    "yolov3 = utils.carregar_yolov3()\n",
    "yolov3"
   ]
  }
 ],
 "metadata": {
  "kernelspec": {
   "display_name": "opencv-yolo-darknet-qw1bPAyb-py3.12",
   "language": "python",
   "name": "python3"
  },
  "language_info": {
   "codemirror_mode": {
    "name": "ipython",
    "version": 3
   },
   "file_extension": ".py",
   "mimetype": "text/x-python",
   "name": "python",
   "nbconvert_exporter": "python",
   "pygments_lexer": "ipython3",
   "version": "3.12.3"
  }
 },
 "nbformat": 4,
 "nbformat_minor": 5
}
